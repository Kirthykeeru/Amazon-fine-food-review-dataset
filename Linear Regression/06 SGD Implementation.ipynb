{
 "cells": [
  {
   "cell_type": "code",
   "execution_count": 2,
   "metadata": {},
   "outputs": [],
   "source": [
    "from sklearn.datasets import load_boston\n",
    "from sklearn.model_selection import train_test_split\n",
    "import matplotlib.pyplot as plt\n",
    "%matplotlib inline\n",
    "import numpy as np\n",
    "import pandas as pd\n",
    "from sklearn import preprocessing\n",
    "from tqdm.notebook import tqdm\n",
    "import warnings\n",
    "warnings.filterwarnings(\"ignore\")\n",
    "boston=load_boston()\n",
    "from sklearn.metrics import mean_squared_error\n",
    "from sklearn.metrics import mean_absolute_error\n",
    "from sklearn.linear_model import SGDRegressor\n",
    "from prettytable import PrettyTable    "
   ]
  },
  {
   "cell_type": "code",
   "execution_count": 13,
   "metadata": {},
   "outputs": [
    {
     "data": {
      "text/html": [
       "<div>\n",
       "<style scoped>\n",
       "    .dataframe tbody tr th:only-of-type {\n",
       "        vertical-align: middle;\n",
       "    }\n",
       "\n",
       "    .dataframe tbody tr th {\n",
       "        vertical-align: top;\n",
       "    }\n",
       "\n",
       "    .dataframe thead th {\n",
       "        text-align: right;\n",
       "    }\n",
       "</style>\n",
       "<table border=\"1\" class=\"dataframe\">\n",
       "  <thead>\n",
       "    <tr style=\"text-align: right;\">\n",
       "      <th></th>\n",
       "      <th>0</th>\n",
       "      <th>1</th>\n",
       "      <th>2</th>\n",
       "      <th>3</th>\n",
       "      <th>4</th>\n",
       "      <th>5</th>\n",
       "      <th>6</th>\n",
       "      <th>7</th>\n",
       "      <th>8</th>\n",
       "      <th>9</th>\n",
       "      <th>10</th>\n",
       "      <th>11</th>\n",
       "      <th>12</th>\n",
       "    </tr>\n",
       "  </thead>\n",
       "  <tbody>\n",
       "    <tr>\n",
       "      <th>0</th>\n",
       "      <td>0.00632</td>\n",
       "      <td>18.0</td>\n",
       "      <td>2.31</td>\n",
       "      <td>0.0</td>\n",
       "      <td>0.538</td>\n",
       "      <td>6.575</td>\n",
       "      <td>65.2</td>\n",
       "      <td>4.0900</td>\n",
       "      <td>1.0</td>\n",
       "      <td>296.0</td>\n",
       "      <td>15.3</td>\n",
       "      <td>396.90</td>\n",
       "      <td>4.98</td>\n",
       "    </tr>\n",
       "    <tr>\n",
       "      <th>1</th>\n",
       "      <td>0.02731</td>\n",
       "      <td>0.0</td>\n",
       "      <td>7.07</td>\n",
       "      <td>0.0</td>\n",
       "      <td>0.469</td>\n",
       "      <td>6.421</td>\n",
       "      <td>78.9</td>\n",
       "      <td>4.9671</td>\n",
       "      <td>2.0</td>\n",
       "      <td>242.0</td>\n",
       "      <td>17.8</td>\n",
       "      <td>396.90</td>\n",
       "      <td>9.14</td>\n",
       "    </tr>\n",
       "    <tr>\n",
       "      <th>2</th>\n",
       "      <td>0.02729</td>\n",
       "      <td>0.0</td>\n",
       "      <td>7.07</td>\n",
       "      <td>0.0</td>\n",
       "      <td>0.469</td>\n",
       "      <td>7.185</td>\n",
       "      <td>61.1</td>\n",
       "      <td>4.9671</td>\n",
       "      <td>2.0</td>\n",
       "      <td>242.0</td>\n",
       "      <td>17.8</td>\n",
       "      <td>392.83</td>\n",
       "      <td>4.03</td>\n",
       "    </tr>\n",
       "    <tr>\n",
       "      <th>3</th>\n",
       "      <td>0.03237</td>\n",
       "      <td>0.0</td>\n",
       "      <td>2.18</td>\n",
       "      <td>0.0</td>\n",
       "      <td>0.458</td>\n",
       "      <td>6.998</td>\n",
       "      <td>45.8</td>\n",
       "      <td>6.0622</td>\n",
       "      <td>3.0</td>\n",
       "      <td>222.0</td>\n",
       "      <td>18.7</td>\n",
       "      <td>394.63</td>\n",
       "      <td>2.94</td>\n",
       "    </tr>\n",
       "    <tr>\n",
       "      <th>4</th>\n",
       "      <td>0.06905</td>\n",
       "      <td>0.0</td>\n",
       "      <td>2.18</td>\n",
       "      <td>0.0</td>\n",
       "      <td>0.458</td>\n",
       "      <td>7.147</td>\n",
       "      <td>54.2</td>\n",
       "      <td>6.0622</td>\n",
       "      <td>3.0</td>\n",
       "      <td>222.0</td>\n",
       "      <td>18.7</td>\n",
       "      <td>396.90</td>\n",
       "      <td>5.33</td>\n",
       "    </tr>\n",
       "  </tbody>\n",
       "</table>\n",
       "</div>"
      ],
      "text/plain": [
       "        0     1     2    3      4      5     6       7    8      9     10  \\\n",
       "0  0.00632  18.0  2.31  0.0  0.538  6.575  65.2  4.0900  1.0  296.0  15.3   \n",
       "1  0.02731   0.0  7.07  0.0  0.469  6.421  78.9  4.9671  2.0  242.0  17.8   \n",
       "2  0.02729   0.0  7.07  0.0  0.469  7.185  61.1  4.9671  2.0  242.0  17.8   \n",
       "3  0.03237   0.0  2.18  0.0  0.458  6.998  45.8  6.0622  3.0  222.0  18.7   \n",
       "4  0.06905   0.0  2.18  0.0  0.458  7.147  54.2  6.0622  3.0  222.0  18.7   \n",
       "\n",
       "       11    12  \n",
       "0  396.90  4.98  \n",
       "1  396.90  9.14  \n",
       "2  392.83  4.03  \n",
       "3  394.63  2.94  \n",
       "4  396.90  5.33  "
      ]
     },
     "execution_count": 13,
     "metadata": {},
     "output_type": "execute_result"
    }
   ],
   "source": [
    "x=load_boston().data\n",
    "y=load_boston().target\n",
    "df=pd.DataFrame(x)\n",
    "df.head()"
   ]
  },
  {
   "cell_type": "code",
   "execution_count": 7,
   "metadata": {},
   "outputs": [
    {
     "data": {
      "text/html": [
       "<div>\n",
       "<style scoped>\n",
       "    .dataframe tbody tr th:only-of-type {\n",
       "        vertical-align: middle;\n",
       "    }\n",
       "\n",
       "    .dataframe tbody tr th {\n",
       "        vertical-align: top;\n",
       "    }\n",
       "\n",
       "    .dataframe thead th {\n",
       "        text-align: right;\n",
       "    }\n",
       "</style>\n",
       "<table border=\"1\" class=\"dataframe\">\n",
       "  <thead>\n",
       "    <tr style=\"text-align: right;\">\n",
       "      <th></th>\n",
       "      <th>0</th>\n",
       "      <th>1</th>\n",
       "      <th>2</th>\n",
       "      <th>3</th>\n",
       "      <th>4</th>\n",
       "      <th>5</th>\n",
       "      <th>6</th>\n",
       "      <th>7</th>\n",
       "      <th>8</th>\n",
       "      <th>9</th>\n",
       "      <th>10</th>\n",
       "      <th>11</th>\n",
       "      <th>12</th>\n",
       "      <th>price</th>\n",
       "    </tr>\n",
       "  </thead>\n",
       "  <tbody>\n",
       "    <tr>\n",
       "      <th>0</th>\n",
       "      <td>-0.425469</td>\n",
       "      <td>-0.470768</td>\n",
       "      <td>-0.954686</td>\n",
       "      <td>-0.231455</td>\n",
       "      <td>-0.919581</td>\n",
       "      <td>0.215100</td>\n",
       "      <td>-0.747410</td>\n",
       "      <td>0.454022</td>\n",
       "      <td>-0.764468</td>\n",
       "      <td>-0.976012</td>\n",
       "      <td>0.005460</td>\n",
       "      <td>0.441889</td>\n",
       "      <td>-0.444819</td>\n",
       "      <td>23.9</td>\n",
       "    </tr>\n",
       "    <tr>\n",
       "      <th>1</th>\n",
       "      <td>-0.426323</td>\n",
       "      <td>2.992576</td>\n",
       "      <td>-1.330157</td>\n",
       "      <td>-0.231455</td>\n",
       "      <td>-1.227311</td>\n",
       "      <td>-0.883652</td>\n",
       "      <td>-1.691588</td>\n",
       "      <td>3.163428</td>\n",
       "      <td>-0.651568</td>\n",
       "      <td>-0.464548</td>\n",
       "      <td>1.616046</td>\n",
       "      <td>0.287498</td>\n",
       "      <td>-0.666438</td>\n",
       "      <td>18.2</td>\n",
       "    </tr>\n",
       "    <tr>\n",
       "      <th>2</th>\n",
       "      <td>-0.385190</td>\n",
       "      <td>-0.470768</td>\n",
       "      <td>-0.705828</td>\n",
       "      <td>4.320494</td>\n",
       "      <td>-0.423795</td>\n",
       "      <td>-0.125423</td>\n",
       "      <td>0.818985</td>\n",
       "      <td>-0.353904</td>\n",
       "      <td>-0.199967</td>\n",
       "      <td>-0.623278</td>\n",
       "      <td>-0.500725</td>\n",
       "      <td>0.423713</td>\n",
       "      <td>1.226505</td>\n",
       "      <td>21.7</td>\n",
       "    </tr>\n",
       "    <tr>\n",
       "      <th>3</th>\n",
       "      <td>-0.249268</td>\n",
       "      <td>-0.470768</td>\n",
       "      <td>-0.423497</td>\n",
       "      <td>-0.231455</td>\n",
       "      <td>-0.158805</td>\n",
       "      <td>-0.228336</td>\n",
       "      <td>1.021567</td>\n",
       "      <td>-0.021755</td>\n",
       "      <td>-0.651568</td>\n",
       "      <td>-0.623278</td>\n",
       "      <td>1.155878</td>\n",
       "      <td>-1.185126</td>\n",
       "      <td>1.068407</td>\n",
       "      <td>13.5</td>\n",
       "    </tr>\n",
       "    <tr>\n",
       "      <th>4</th>\n",
       "      <td>-0.365945</td>\n",
       "      <td>0.395068</td>\n",
       "      <td>-1.030363</td>\n",
       "      <td>-0.231455</td>\n",
       "      <td>0.157472</td>\n",
       "      <td>3.102729</td>\n",
       "      <td>-0.060078</td>\n",
       "      <td>-0.646202</td>\n",
       "      <td>-0.538668</td>\n",
       "      <td>-0.876071</td>\n",
       "      <td>-2.525462</td>\n",
       "      <td>0.306551</td>\n",
       "      <td>-0.752545</td>\n",
       "      <td>50.0</td>\n",
       "    </tr>\n",
       "  </tbody>\n",
       "</table>\n",
       "</div>"
      ],
      "text/plain": [
       "          0         1         2         3         4         5         6  \\\n",
       "0 -0.425469 -0.470768 -0.954686 -0.231455 -0.919581  0.215100 -0.747410   \n",
       "1 -0.426323  2.992576 -1.330157 -0.231455 -1.227311 -0.883652 -1.691588   \n",
       "2 -0.385190 -0.470768 -0.705828  4.320494 -0.423795 -0.125423  0.818985   \n",
       "3 -0.249268 -0.470768 -0.423497 -0.231455 -0.158805 -0.228336  1.021567   \n",
       "4 -0.365945  0.395068 -1.030363 -0.231455  0.157472  3.102729 -0.060078   \n",
       "\n",
       "          7         8         9        10        11        12  price  \n",
       "0  0.454022 -0.764468 -0.976012  0.005460  0.441889 -0.444819   23.9  \n",
       "1  3.163428 -0.651568 -0.464548  1.616046  0.287498 -0.666438   18.2  \n",
       "2 -0.353904 -0.199967 -0.623278 -0.500725  0.423713  1.226505   21.7  \n",
       "3 -0.021755 -0.651568 -0.623278  1.155878 -1.185126  1.068407   13.5  \n",
       "4 -0.646202 -0.538668 -0.876071 -2.525462  0.306551 -0.752545   50.0  "
      ]
     },
     "execution_count": 7,
     "metadata": {},
     "output_type": "execute_result"
    }
   ],
   "source": [
    "x_train, x_test, y_train, y_test=train_test_split(x, y, test_size=0.3, random_state=4)\n",
    "std=preprocessing.StandardScaler()\n",
    "x_train=std.fit_transform(x_train)\n",
    "x_test=std.transform(x_test)\n",
    "\n",
    "xtr_df=pd.DataFrame(x_train)\n",
    "xtr_df['price']=y_train\n",
    "xtr_df.shape\n",
    "xtr_df.head()"
   ]
  },
  {
   "cell_type": "code",
   "execution_count": 28,
   "metadata": {},
   "outputs": [
    {
     "data": {
      "application/vnd.jupyter.widget-view+json": {
       "model_id": "6e126d5c21b745018c19dfc4cfccd17e",
       "version_major": 2,
       "version_minor": 0
      },
      "text/plain": [
       "HBox(children=(FloatProgress(value=0.0, max=1000.0), HTML(value='')))"
      ]
     },
     "metadata": {},
     "output_type": "display_data"
    },
    {
     "name": "stdout",
     "output_type": "stream",
     "text": [
      "\n",
      "[[-1.050332    1.11214712 -0.15314985  1.22872066 -1.60212414  1.99599582\n",
      "  -0.01165838 -3.20705273  2.41806794 -1.4724067  -1.6783505   0.73152697\n",
      "  -3.74621601]]\n",
      "[22.11069232]\n"
     ]
    }
   ],
   "source": [
    "#SGD self implementation\n",
    "W,B,iteration,lr_rate,k=np.zeros(shape=(1,13)),0,1000,0.01,25 #intialise vector W to zero ,scalar B to zero , iteration=1000 , learning rate=0.01,k=batchsize=25\n",
    "\n",
    "for itr in tqdm(range(iteration)):\n",
    "    w,b,tem_vec,tem_incpt=W,B,np.zeros(shape=(1,13)),0\n",
    "    new_data=xtr_df.sample(25) #sampling random k=batch_size=25 data\n",
    "    x=np.array(new_data.drop('price',axis=1)) #x stores sampled data\n",
    "    y=np.array(new_data['price']) #y stores sampled data\n",
    "    \n",
    "    for i in range(k): # for eacch itr :i runs for 25 times\n",
    "        tem_vec=tem_vec+(-2)*x[i]*(y[i]-(np.dot(w,x[i])+b)) #differentiated eqn\n",
    "        tem_incpt=tem_incpt+(-2)*(y[i]-(np.dot(w,x[i])+b))  \n",
    "    W=(w-lr_rate*(tem_vec)/k)   #Calculating weight\n",
    "    B=(b-lr_rate*(tem_incpt)/k) \n",
    "print(W)\n",
    "print(B)\n",
    "#https://numpy.org/doc/stable/reference/generated/numpy.dot.html"
   ]
  },
  {
   "cell_type": "code",
   "execution_count": 17,
   "metadata": {},
   "outputs": [],
   "source": [
    "y_hat=[]\n",
    "for i in range(len(x_test)):\n",
    "    pred_val=np.dot(W,x_test[i])+B\n",
    "    y_hat.append(np.asscalar(pred_val))\n",
    "#https://www.geeksforgeeks.org/numpy-asscalar-in-python"
   ]
  },
  {
   "cell_type": "code",
   "execution_count": 18,
   "metadata": {},
   "outputs": [
    {
     "data": {
      "image/png": "[encoded data removed]",
      "text/plain": [
       "<Figure size 432x288 with 1 Axes>"
      ]
     },
     "metadata": {},
     "output_type": "display_data"
    }
   ],
   "source": [
    "plt.scatter(y_test,y_hat)\n",
    "plt.xlabel(\"Actual price\")\n",
    "plt.ylabel(\"Predicted price\")\n",
    "plt.title(\"y v/s y_hat\")\n",
    "plt.show()"
   ]
  },
  {
   "cell_type": "code",
   "execution_count": 19,
   "metadata": {},
   "outputs": [
    {
     "name": "stdout",
     "output_type": "stream",
     "text": [
      "MSE 28.65801524816916\n",
      "MAE 3.7283840916214435\n"
     ]
    }
   ],
   "source": [
    "mse=mean_squared_error(y_test,y_hat)\n",
    "mae=mean_absolute_error(y_test,y_hat)\n",
    "print(\"MSE\",mse)\n",
    "print(\"MAE\",mae)"
   ]
  },
  {
   "cell_type": "markdown",
   "metadata": {},
   "source": [
    "## Implementing SGD using sklearn"
   ]
  },
  {
   "cell_type": "code",
   "execution_count": 20,
   "metadata": {},
   "outputs": [
    {
     "data": {
      "text/plain": [
       "SGDRegressor()"
      ]
     },
     "execution_count": 20,
     "metadata": {},
     "output_type": "execute_result"
    }
   ],
   "source": [
    "#Sklearn SGD implemention, using previously used train and test data \n",
    "sgd = SGDRegressor()\n",
    "sgd.fit(x_train, y_train)"
   ]
  },
  {
   "cell_type": "code",
   "execution_count": 21,
   "metadata": {},
   "outputs": [],
   "source": [
    "y_hat_sgd=sgd.predict(x_test)"
   ]
  },
  {
   "cell_type": "code",
   "execution_count": 22,
   "metadata": {},
   "outputs": [
    {
     "data": {
      "image/png": "[encoded data removed]",
      "text/plain": [
       "<Figure size 432x288 with 1 Axes>"
      ]
     },
     "metadata": {},
     "output_type": "display_data"
    }
   ],
   "source": [
    "plt.scatter(y_test,y_hat_sgd)\n",
    "plt.xlabel(\"Prices: $Y_i$\")\n",
    "plt.ylabel(\"Predicted prices: $\\hat{Y}_i$\")\n",
    "plt.title(\"Prices vs Predicted prices: $Y_i$ vs $\\hat{Y}_i$\")\n",
    "plt.show()"
   ]
  },
  {
   "cell_type": "code",
   "execution_count": 23,
   "metadata": {},
   "outputs": [
    {
     "name": "stdout",
     "output_type": "stream",
     "text": [
      "MSE 29.67038102430654\n",
      "MAE 3.8144001829398215\n"
     ]
    }
   ],
   "source": [
    "mse=mean_squared_error(y_test,y_hat_sgd)\n",
    "mae=mean_absolute_error(y_test,y_hat_sgd)\n",
    "print(\"MSE\",mse)\n",
    "print(\"MAE\",mae)"
   ]
  },
  {
   "cell_type": "code",
   "execution_count": 39,
   "metadata": {},
   "outputs": [],
   "source": [
    "sklearn_sgd_weight=sgd.coef_"
   ]
  },
  {
   "cell_type": "markdown",
   "metadata": {},
   "source": [
    "## Conclusion"
   ]
  },
  {
   "cell_type": "code",
   "execution_count": 52,
   "metadata": {},
   "outputs": [
    {
     "name": "stdout",
     "output_type": "stream",
     "text": [
      "+----------------------+----------------------+\n",
      "|   Self SGD_weight    |  Sklearn SGD_weight  |\n",
      "+----------------------+----------------------+\n",
      "| -0.8643778323074938  | -1.0271535187514829  |\n",
      "|  1.1121891228927454  |  1.1519585734764535  |\n",
      "| -0.41170904540119496 | -0.39549543773182705 |\n",
      "|  0.9205482351334228  |  1.0841315811744174  |\n",
      "| -1.4766658720815533  |  -1.581813998706039  |\n",
      "|  2.1491262329910668  |  2.2706767046163994  |\n",
      "| -0.22466228228844884 | -0.15760285204111085 |\n",
      "|  -3.179122673966019  | -3.1817416584700062  |\n",
      "|  1.9064389677492497  |  2.0353124571773886  |\n",
      "|  -1.401666361585271  | -1.5351530375854299  |\n",
      "| -1.5979972483299938  |  -1.751320327297852  |\n",
      "|  0.9587038141558701  |  0.849678498833273   |\n",
      "|  -3.56575966492354   |  -3.730305610421711  |\n",
      "+----------------------+----------------------+\n"
     ]
    }
   ],
   "source": [
    "#Table showing weights\n",
    "x = PrettyTable()\n",
    "column_names = ['Self SGD_weight','Sklearn SGD_weight']\n",
    "x.add_column(column_names[0],W[0])\n",
    "x.add_column(column_names[1],sklearn_sgd_weight)  \n",
    "print(x)"
   ]
  },
  {
   "cell_type": "code",
   "execution_count": 3,
   "metadata": {},
   "outputs": [
    {
     "name": "stdout",
     "output_type": "stream",
     "text": [
      "+-------------+------------+--------------------+\n",
      "|    Model    | Error Type |       Error        |\n",
      "+-------------+------------+--------------------+\n",
      "|   Self SGD  |    MSE     | 29.676320412098082 |\n",
      "|   Self SGD  |    MAE     | 3.779891666092997  |\n",
      "| Sklearn SGD |    MSE     | 29.935375112161434 |\n",
      "| Sklearn SGD |    MAE     | 3.7999981134575314 |\n",
      "+-------------+------------+--------------------+\n"
     ]
    }
   ],
   "source": [
    "#Table showing errors\n",
    "x= PrettyTable()\n",
    "x.field_names=['Model','Error Type','Error']\n",
    "x.add_row(['Self SGD','MSE',29.676320412098082])\n",
    "x.add_row(['Self SGD','MAE',3.779891666092997])\n",
    "x.add_row(['Sklearn SGD','MSE',29.935375112161434])\n",
    "x.add_row(['Sklearn SGD','MAE',3.7999981134575314])\n",
    "print(x)"
   ]
  },
  {
   "cell_type": "markdown",
   "metadata": {},
   "source": [
    "### Considering the above tables we can say that \"Self SGD\" and \"Sklearn SGD\" are giving almost same results and doing its best "
   ]
  },
  {
   "cell_type": "code",
   "execution_count": null,
   "metadata": {},
   "outputs": [],
   "source": []
  }
 ],
 "metadata": {
  "kernelspec": {
   "display_name": "Python 3",
   "language": "python",
   "name": "python3"
  },
  "language_info": {
   "codemirror_mode": {
    "name": "ipython",
    "version": 3
   },
   "file_extension": ".py",
   "mimetype": "text/x-python",
   "name": "python",
   "nbconvert_exporter": "python",
   "pygments_lexer": "ipython3",
   "version": "3.6.5"
  }
 },
 "nbformat": 4,
 "nbformat_minor": 2
}
